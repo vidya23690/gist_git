{
 "cells": [
  {
   "cell_type": "markdown",
   "metadata": {},
   "source": [
    "# title\n",
    "## subtitle"
   ]
  },
  {
   "cell_type": "markdown",
   "metadata": {},
   "source": [
    "# next one is ordered list and unordered list\n",
    "- outdoor games\n",
    "  1.cricket\n",
    "  2.football\n",
    "  3.hockey\n",
    "  4.tennis\n",
    "- indoor games\n",
    "  1.chess\n",
    "  2.carrons\n",
    "  3.ludo\n",
    "  4.cards"
   ]
  },
  {
   "cell_type": "markdown",
   "metadata": {},
   "source": [
    "# how to place horizontal lines in markdown\n",
    "***\n",
    "    1.git\n",
    "    2.python\n",
    "    3.numpy\n",
    "    4.pandas\n",
    "    5.matplot lib\n",
    "***    "
   ]
  },
  {
   "cell_type": "markdown",
   "metadata": {},
   "source": [
    "#### text will converted to italic and bold using markdown\n",
    "- this is normal text\n",
    "- *this is a italic text*\n",
    "-**this is a bold text**\n",
    "-this is a *italic* and **bold**"
   ]
  },
  {
   "cell_type": "markdown",
   "metadata": {},
   "source": [
    "# how to add hyper links using markdown\n",
    "- [GOOGLE](https://www.google.com)\n",
    "- [FACEBOOK](https://www.facebook.com)\n",
    "- [APSSDC](https://www.apssdc.in)"
   ]
  },
  {
   "attachments": {},
   "cell_type": "markdown",
   "metadata": {},
   "source": [
    "### how to get images using markdown\n",
    "- ![image](https://www.denofgeek.com/wp-content/uploads/2018/10/tom-and-jerry-warner-bros.jpg?fit=670%2C377)"
   ]
  },
  {
   "cell_type": "markdown",
   "metadata": {},
   "source": [
    "#### how to highlited particular lines using markdown\n",
    "- here writing python  programs\n",
    "- markdown is used for writting digital documentation\n",
    "\n",
    "` python\n",
    "a=int(input('enter a number'))\n",
    "if a%2==0:\n",
    "    print(a,'is even number')\n",
    "else:\n",
    "    print(a,'is odd')\n",
    "`    \n",
    "\n",
    "- above backward quotation are defined highlited text for particular selected text"
   ]
  },
  {
   "cell_type": "code",
   "execution_count": null,
   "metadata": {},
   "outputs": [],
   "source": []
  }
 ],
 "metadata": {
  "kernelspec": {
   "display_name": "Python 3",
   "language": "python",
   "name": "python3"
  },
  "language_info": {
   "codemirror_mode": {
    "name": "ipython",
    "version": 3
   },
   "file_extension": ".py",
   "mimetype": "text/x-python",
   "name": "python",
   "nbconvert_exporter": "python",
   "pygments_lexer": "ipython3",
   "version": "3.8.5"
  }
 },
 "nbformat": 4,
 "nbformat_minor": 4
}
